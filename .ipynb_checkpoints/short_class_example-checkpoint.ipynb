{
 "cells": [
  {
   "cell_type": "markdown",
   "id": "da199b22",
   "metadata": {},
   "source": [
    "# Welcome to a small object-oriented notebook"
   ]
  },
  {
   "cell_type": "markdown",
   "id": "027e6d49",
   "metadata": {},
   "source": [
    "Scope of this notebook is to be both an example on how notebooks can be used, and a small and far-for-complete tutorial for object-oriented programming using R. \n",
    "\n",
    "<br>\n",
    "\n",
    "R has three object oriented (OO) systems: S3, S4 and Reference Classes. S3 and S4 systems are actually... not what you expect when you think of a class in object-oriented programming. Everything that follows will be done using reference classes. More on the topic can be found <!-- [Text](link) -->\n",
    "[here](http://adv-r.had.co.nz/R5.html \"this link\").\n"
   ]
  },
  {
   "cell_type": "markdown",
   "id": "40e33de1",
   "metadata": {},
   "source": [
    "As a first step, let's source a .r file with in-defined functions and objects. A warning will appear, but we'll discuss it soon."
   ]
  },
  {
   "cell_type": "code",
   "execution_count": 1,
   "id": "7edca694",
   "metadata": {},
   "outputs": [
    {
     "name": "stderr",
     "output_type": "stream",
     "text": [
      "Warning message in .checkFieldsInMethod(def, fieldNames, allMethods):\n",
      "“local assignment to field name will not change the field:\n",
      "    age <- age + 1\n",
      " Did you mean to use \"<<-\"? ( in method \"celebrate_birthday\" for class \"givitino\")”"
     ]
    }
   ],
   "source": [
    "source('classes.r')"
   ]
  },
  {
   "cell_type": "markdown",
   "id": "be243963",
   "metadata": {},
   "source": [
    "Feel free to open the file to see the source code. You'll see that a class called `givitino` is defined. It has some attributes and some methods, i.e. some \"properties\" and built-in functions.\n",
    "\n",
    "<br> \n",
    "\n",
    "Actually, there is no need to open the file! Let me paste the code here! Markdown allows it, and it keeps the indentation as well! You just put the code you want to show between backtics!"
   ]
  },
  {
   "cell_type": "markdown",
   "id": "dfb1ef98",
   "metadata": {},
   "source": [
    "```\n",
    "fields=list(name='character',\n",
    "            job='character',\n",
    "            age='numeric')\n",
    "\n",
    "methods=list(initialize=function(){\n",
    "                name <<- 'Unknown'\n",
    "                age <<- 99\n",
    "                job <<- ''\n",
    "                },\n",
    "                \n",
    "             introduce=function(){\n",
    "                print(paste('Ciao! Mi chiamo ',\n",
    "                            name, \n",
    "                            ' e ho ',\n",
    "                            age,\n",
    "                            ' anni!'))\n",
    "                },\n",
    "                \n",
    "             celebrate_birthday=function(){\n",
    "                age <- age+1\n",
    "                print(age)\n",
    "                })\n",
    "\n",
    "setRefClass(\"givitino\", fields=fields, methods=methods)\n",
    "\n",
    "\n",
    "```"
   ]
  },
  {
   "cell_type": "markdown",
   "id": "d7ee8c84",
   "metadata": {},
   "source": [
    "`fields` is a list of all the object properties. \n",
    "\n",
    "`methods` is a list of all the object built-in functions.\n",
    "\n",
    "`setRefClass` creates the abstract object \"givitino\"."
   ]
  },
  {
   "cell_type": "markdown",
   "id": "f8c32eaa",
   "metadata": {},
   "source": [
    "The class has three attributes (`name, job, age`) and three methods (`initialize, introduce, celebrate_birthday`). The `initialize` method is executed (invoked) automatically when an object is created."
   ]
  },
  {
   "cell_type": "code",
   "execution_count": 2,
   "id": "34c0c46c",
   "metadata": {},
   "outputs": [],
   "source": [
    "# definining a new givitino\n",
    "generic_givitino <- new('givitino')"
   ]
  },
  {
   "cell_type": "markdown",
   "id": "3a610e50",
   "metadata": {},
   "source": [
    "Class attributes can be seen by typing the new object name:"
   ]
  },
  {
   "cell_type": "code",
   "execution_count": 3,
   "id": "5d4fc366",
   "metadata": {},
   "outputs": [
    {
     "data": {
      "text/plain": [
       "Reference class object of class \"givitino\"\n",
       "Field \"name\":\n",
       "[1] \"Unknown\"\n",
       "Field \"job\":\n",
       "[1] \"\"\n",
       "Field \"age\":\n",
       "[1] 99"
      ]
     },
     "metadata": {},
     "output_type": "display_data"
    }
   ],
   "source": [
    "generic_givitino"
   ]
  },
  {
   "cell_type": "markdown",
   "id": "4cc4b10d",
   "metadata": {},
   "source": [
    "Since the initialize method is invoked automatically, the fields (attributes) are filled with default values. The value of a single field can be accessed using the usual $ symbol:"
   ]
  },
  {
   "cell_type": "code",
   "execution_count": 4,
   "id": "11d9774b",
   "metadata": {},
   "outputs": [
    {
     "data": {
      "text/html": [
       "99"
      ],
      "text/latex": [
       "99"
      ],
      "text/markdown": [
       "99"
      ],
      "text/plain": [
       "[1] 99"
      ]
     },
     "metadata": {},
     "output_type": "display_data"
    }
   ],
   "source": [
    "generic_givitino$age"
   ]
  },
  {
   "cell_type": "markdown",
   "id": "e238f17d",
   "metadata": {},
   "source": [
    "It's birthday time! Let's celebrate!"
   ]
  },
  {
   "cell_type": "code",
   "execution_count": 5,
   "id": "5908603f",
   "metadata": {},
   "outputs": [
    {
     "name": "stdout",
     "output_type": "stream",
     "text": [
      "[1] 100\n"
     ]
    }
   ],
   "source": [
    "generic_givitino$celebrate_birthday()"
   ]
  },
  {
   "cell_type": "code",
   "execution_count": 6,
   "id": "280c6f6e",
   "metadata": {},
   "outputs": [
    {
     "data": {
      "text/html": [
       "99"
      ],
      "text/latex": [
       "99"
      ],
      "text/markdown": [
       "99"
      ],
      "text/plain": [
       "[1] 99"
      ]
     },
     "metadata": {},
     "output_type": "display_data"
    }
   ],
   "source": [
    "generic_givitino$age"
   ]
  },
  {
   "cell_type": "markdown",
   "id": "cc5aefbf",
   "metadata": {},
   "source": [
    "What did just happen? We celebrated a birthday, the age was increased by one and printed, and yet when we access the value of the field it's still 99! This is because the `celebrate_birthday` isn't properly defined. This is what causes the warning in the beginning to be raised. \n",
    "\n",
    "<br>\n",
    "\n",
    "With respect to \"standard R\", the \"double arrow\" syntax is needed in order to modify the value of an object field. This is what happens in the `initialize` method:\n",
    "```\n",
    "initialize=function(){\n",
    "    name <<- 'Unknown'\n",
    "    age <<- 99\n",
    "    job <<- ''\n",
    "    }\n",
    "```\n",
    "In the celebrate_birthday method, though, the \"single arrow\" is used. \n",
    "```\n",
    "celebrate_birthday=function(){\n",
    "    age <- age+1\n",
    "    print(age)\n",
    "    }\n",
    "```\n",
    "This modifies the `age` value *locally* (i.e. inside the function, so that when it is printed we actually see it increased by one), but not *globally*. \n",
    "\n",
    "<br>\n",
    "\n",
    "While being bad in this specific case, the possibility of manipulating/modifying variables without making permanent changes can be useful. It's up to you to decide!"
   ]
  },
  {
   "cell_type": "markdown",
   "id": "75e4f2cb",
   "metadata": {},
   "source": [
    "## Inheritance"
   ]
  },
  {
   "cell_type": "markdown",
   "id": "b2b44dc4",
   "metadata": {},
   "source": [
    "A key feature of classes is the so-called class inheritance. Again, we'll source an .r file with a couple predefined classes and paste and comment the code here."
   ]
  },
  {
   "cell_type": "code",
   "execution_count": 49,
   "id": "93daa36a",
   "metadata": {},
   "outputs": [
    {
     "name": "stderr",
     "output_type": "stream",
     "text": [
      "Warning message in .checkFieldsInMethod(def, fieldNames, allMethods):\n",
      "“local assignment to field name will not change the field:\n",
      "    age <- age + 1\n",
      " Did you mean to use \"<<-\"? ( in method \"celebrate_birthday\" for class \"givitino\")”"
     ]
    }
   ],
   "source": [
    "source('givitins.r')"
   ]
  },
  {
   "cell_type": "markdown",
   "id": "32f2cf51",
   "metadata": {},
   "source": [
    "```\n",
    "fields = list(plant_list='character',\n",
    "              enthusiastic='logical')\n",
    "\n",
    "methods = list(water_plants=function(){\n",
    "                    print('Ora vado ad innaffiare le piante!')\n",
    "                    if(enthusiastic){\n",
    "                        for(plant in plant_list){\n",
    "                            print(paste('Ho innaffiato la ', plant, '. Evviva!'))\n",
    "                            }\n",
    "                        }\n",
    "                    })\n",
    "\n",
    "setRefClass(\"Zanna\",\n",
    "            fields=fields,\n",
    "            methods=methods,\n",
    "            contains=\"givitino\")\n",
    "```"
   ]
  },
  {
   "cell_type": "markdown",
   "id": "c19b0c27",
   "metadata": {},
   "source": [
    "The definition is very similar to the *mother* reference class. `fields` and `methods` are defined and the abstract object \"Zanna\" is defined. The difference with respect to the previous case is the `contains=\"givitino\"` line, which tells R that the all the \"Zanna\"-like objects will also have all the \"givitino\" methods and fields.\n",
    "\n",
    "Let's create a \"Zanna\" object and print out its fields!"
   ]
  },
  {
   "cell_type": "code",
   "execution_count": 16,
   "id": "c14822c1",
   "metadata": {},
   "outputs": [
    {
     "data": {
      "text/plain": [
       "Reference class object of class \"Zanna\"\n",
       "Field \"name\":\n",
       "[1] \"Unknown\"\n",
       "Field \"job\":\n",
       "[1] \"\"\n",
       "Field \"age\":\n",
       "[1] 99\n",
       "Field \"plant_list\":\n",
       "character(0)\n",
       "Field \"enthusiastic\":\n",
       "logical(0)"
      ]
     },
     "metadata": {},
     "output_type": "display_data"
    }
   ],
   "source": [
    "michiz <- new(\"Zanna\")\n",
    "michiz"
   ]
  },
  {
   "cell_type": "markdown",
   "id": "5ea17234",
   "metadata": {},
   "source": [
    "We can see that it actually has `name, job, age` fields even though they were not explicitly defined during the \"Zanna\" object definition. The object has two more fields, `plant_list` and `enthusiastic`. Let's fill them, and maybe reduce michiz's age. Note that the \"single arrow\" syntax works just fine when you're working *outside* the function method."
   ]
  },
  {
   "cell_type": "code",
   "execution_count": 17,
   "id": "2b24519d",
   "metadata": {},
   "outputs": [],
   "source": [
    "michiz$name <- 'MicheleZ'\n",
    "michiz$age <- 35\n",
    "michiz$plant_list <- c('edera','basilico','orchidea')\n",
    "michiz$enthusiastic <- TRUE"
   ]
  },
  {
   "cell_type": "markdown",
   "id": "6d18570e",
   "metadata": {},
   "source": [
    "\"Hey there! I'm new here! Who are you?\""
   ]
  },
  {
   "cell_type": "code",
   "execution_count": 18,
   "id": "6aa44451",
   "metadata": {},
   "outputs": [
    {
     "name": "stdout",
     "output_type": "stream",
     "text": [
      "[1] \"Ciao! Mi chiamo  MicheleZ  e ho  35  anni!\"\n"
     ]
    }
   ],
   "source": [
    "michiz$introduce()"
   ]
  },
  {
   "cell_type": "code",
   "execution_count": 19,
   "id": "e86e5c8a",
   "metadata": {},
   "outputs": [
    {
     "name": "stdout",
     "output_type": "stream",
     "text": [
      "[1] \"Ora vado ad innaffiare le piante!\"\n",
      "[1] \"Ho innaffiato la edera. Evviva!\"\n",
      "[1] \"Ho innaffiato la basilico. Evviva!\"\n",
      "[1] \"Ho innaffiato la orchidea. Evviva!\"\n"
     ]
    }
   ],
   "source": [
    "michiz$water_plants()"
   ]
  },
  {
   "cell_type": "markdown",
   "id": "59001ac9",
   "metadata": {},
   "source": [
    "## A second, uncommented example"
   ]
  },
  {
   "cell_type": "markdown",
   "id": "a00bc98a",
   "metadata": {},
   "source": [
    "This here is the story of a knitting girl. The story starts in the **very** unlikely case that at some point in her life the number of balls of wools she possesses is limited to 2. "
   ]
  },
  {
   "cell_type": "code",
   "execution_count": 87,
   "id": "6a0e0818",
   "metadata": {},
   "outputs": [],
   "source": [
    "mati <- new(\"Mati\")\n",
    "\n",
    "mati$name <- 'Matip'\n",
    "mati$balls_of_wool <- 2\n",
    "mati$tops <- 0\n",
    "mati$savings <- 5"
   ]
  },
  {
   "cell_type": "markdown",
   "id": "d78ecd14",
   "metadata": {},
   "source": [
    "The girl can knit, and knitting results in a new top for her shop."
   ]
  },
  {
   "cell_type": "code",
   "execution_count": 88,
   "id": "54bb8b89",
   "metadata": {},
   "outputs": [
    {
     "data": {
      "text/html": [
       "1"
      ],
      "text/latex": [
       "1"
      ],
      "text/markdown": [
       "1"
      ],
      "text/plain": [
       "[1] 1"
      ]
     },
     "metadata": {},
     "output_type": "display_data"
    },
    {
     "data": {
      "text/html": [
       "1"
      ],
      "text/latex": [
       "1"
      ],
      "text/markdown": [
       "1"
      ],
      "text/plain": [
       "[1] 1"
      ]
     },
     "metadata": {},
     "output_type": "display_data"
    }
   ],
   "source": [
    "mati$knit()\n",
    "mati$balls_of_wool\n",
    "mati$tops"
   ]
  },
  {
   "cell_type": "code",
   "execution_count": 89,
   "id": "181e8087",
   "metadata": {},
   "outputs": [
    {
     "data": {
      "text/html": [
       "0"
      ],
      "text/latex": [
       "0"
      ],
      "text/markdown": [
       "0"
      ],
      "text/plain": [
       "[1] 0"
      ]
     },
     "metadata": {},
     "output_type": "display_data"
    },
    {
     "data": {
      "text/html": [
       "2"
      ],
      "text/latex": [
       "2"
      ],
      "text/markdown": [
       "2"
      ],
      "text/plain": [
       "[1] 2"
      ]
     },
     "metadata": {},
     "output_type": "display_data"
    }
   ],
   "source": [
    "mati$knit()\n",
    "mati$balls_of_wool\n",
    "mati$tops"
   ]
  },
  {
   "cell_type": "markdown",
   "id": "c8030920",
   "metadata": {},
   "source": [
    "But what happens when there is no more wool left?"
   ]
  },
  {
   "cell_type": "code",
   "execution_count": 90,
   "id": "c3696f0e",
   "metadata": {},
   "outputs": [
    {
     "name": "stdout",
     "output_type": "stream",
     "text": [
      "[1] \"Oh no! Come è possibile? Ho finito la lana!\"\n"
     ]
    },
    {
     "data": {
      "text/html": [
       "0"
      ],
      "text/latex": [
       "0"
      ],
      "text/markdown": [
       "0"
      ],
      "text/plain": [
       "[1] 0"
      ]
     },
     "metadata": {},
     "output_type": "display_data"
    },
    {
     "data": {
      "text/html": [
       "2"
      ],
      "text/latex": [
       "2"
      ],
      "text/markdown": [
       "2"
      ],
      "text/plain": [
       "[1] 2"
      ]
     },
     "metadata": {},
     "output_type": "display_data"
    }
   ],
   "source": [
    "mati$knit()\n",
    "mati$balls_of_wool\n",
    "mati$tops"
   ]
  },
  {
   "cell_type": "markdown",
   "id": "778c15f5",
   "metadata": {},
   "source": [
    "A refill is needed! "
   ]
  },
  {
   "cell_type": "code",
   "execution_count": 91,
   "id": "5d104159",
   "metadata": {},
   "outputs": [
    {
     "data": {
      "text/html": [
       "4"
      ],
      "text/latex": [
       "4"
      ],
      "text/markdown": [
       "4"
      ],
      "text/plain": [
       "[1] 4"
      ]
     },
     "metadata": {},
     "output_type": "display_data"
    },
    {
     "data": {
      "text/html": [
       "1"
      ],
      "text/latex": [
       "1"
      ],
      "text/markdown": [
       "1"
      ],
      "text/plain": [
       "[1] 1"
      ]
     },
     "metadata": {},
     "output_type": "display_data"
    }
   ],
   "source": [
    "mati$refill()\n",
    "mati$savings\n",
    "mati$balls_of_wool"
   ]
  },
  {
   "cell_type": "markdown",
   "id": "03790a90",
   "metadata": {},
   "source": [
    "Even more than one, maybe!"
   ]
  },
  {
   "cell_type": "code",
   "execution_count": 92,
   "id": "f7f2e71e",
   "metadata": {},
   "outputs": [
    {
     "data": {
      "text/html": [
       "0"
      ],
      "text/latex": [
       "0"
      ],
      "text/markdown": [
       "0"
      ],
      "text/plain": [
       "[1] 0"
      ]
     },
     "metadata": {},
     "output_type": "display_data"
    },
    {
     "data": {
      "text/html": [
       "5"
      ],
      "text/latex": [
       "5"
      ],
      "text/markdown": [
       "5"
      ],
      "text/plain": [
       "[1] 5"
      ]
     },
     "metadata": {},
     "output_type": "display_data"
    }
   ],
   "source": [
    "mati$refill()\n",
    "mati$refill()\n",
    "mati$refill()\n",
    "mati$refill()\n",
    "mati$savings\n",
    "mati$balls_of_wool"
   ]
  },
  {
   "cell_type": "markdown",
   "id": "2ebfb92c",
   "metadata": {},
   "source": [
    "But at some point we have to stop, until next payday at least!"
   ]
  },
  {
   "cell_type": "code",
   "execution_count": 93,
   "id": "c0036a12",
   "metadata": {},
   "outputs": [
    {
     "name": "stdout",
     "output_type": "stream",
     "text": [
      "[1] \"Oh no! Ho speso tutti i soldi in lana!\"\n"
     ]
    }
   ],
   "source": [
    "mati$refill()"
   ]
  },
  {
   "cell_type": "markdown",
   "id": "7fc54a9b",
   "metadata": {},
   "source": [
    "Oh well, at least there's a good way to pass the time:"
   ]
  },
  {
   "cell_type": "code",
   "execution_count": 94,
   "id": "a528bdf3",
   "metadata": {},
   "outputs": [
    {
     "data": {
      "text/html": [
       "0"
      ],
      "text/latex": [
       "0"
      ],
      "text/markdown": [
       "0"
      ],
      "text/plain": [
       "[1] 0"
      ]
     },
     "metadata": {},
     "output_type": "display_data"
    },
    {
     "data": {
      "text/html": [
       "7"
      ],
      "text/latex": [
       "7"
      ],
      "text/markdown": [
       "7"
      ],
      "text/plain": [
       "[1] 7"
      ]
     },
     "metadata": {},
     "output_type": "display_data"
    }
   ],
   "source": [
    "mati$knit()\n",
    "mati$knit()\n",
    "mati$knit()\n",
    "mati$knit()\n",
    "mati$knit()\n",
    "mati$balls_of_wool\n",
    "mati$tops"
   ]
  },
  {
   "cell_type": "markdown",
   "id": "c628aa85",
   "metadata": {},
   "source": [
    "If you feel like it, Try adding a new method called \"payday_time\" to the \"Mati\" refClass. Define it so that, when invoked, it increases savings so that more wool can be bought. \n",
    "\n",
    "How can you do it, you ask? Let's switch to **Jupyter Lab**!"
   ]
  }
 ],
 "metadata": {
  "kernelspec": {
   "display_name": "R",
   "language": "R",
   "name": "ir"
  },
  "language_info": {
   "codemirror_mode": "r",
   "file_extension": ".r",
   "mimetype": "text/x-r-source",
   "name": "R",
   "pygments_lexer": "r",
   "version": "3.6.1"
  }
 },
 "nbformat": 4,
 "nbformat_minor": 5
}
