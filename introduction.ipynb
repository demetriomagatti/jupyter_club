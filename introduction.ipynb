{
 "cells": [
  {
   "cell_type": "markdown",
   "id": "fa0c7d3e",
   "metadata": {},
   "source": [
    "# Welcome to your first Jupyter notebook!"
   ]
  },
  {
   "cell_type": "markdown",
   "id": "b4cf9a76",
   "metadata": {},
   "source": [
    "## 0. Type of cells"
   ]
  },
  {
   "cell_type": "markdown",
   "id": "091c0d7a",
   "metadata": {},
   "source": [
    "### 0.1. Raw NBConvert"
   ]
  },
  {
   "cell_type": "raw",
   "id": "8e6a8432",
   "metadata": {},
   "source": [
    "Raw NBConvert cells are only of any use if you intend to use the command line tool nbconvert to convert the notebook to another format (such as HTML or Latex). When you do, cells marked as Raw NBConvert Format will be converted in a way specific to the output you're targeting. \n",
    "\n",
    "Apart from that, Raw NBConvert cells are basically free-text cells; they are not interpreted and the cell doesn't change appearance when you execute it."
   ]
  },
  {
   "cell_type": "markdown",
   "id": "d14b5291",
   "metadata": {},
   "source": [
    "### 0.2 Markdown"
   ]
  },
  {
   "cell_type": "markdown",
   "id": "1bea2cb7",
   "metadata": {},
   "source": [
    "Markdown cells allow you to write text in the markdown text formatting syntax. The cell appearance changes when executed, and text appears in a bit more elegant way than in Raw NBConvert cells."
   ]
  },
  {
   "cell_type": "markdown",
   "id": "c06046c9",
   "metadata": {},
   "source": [
    "You can <b>change the text format</b> using HTML-like tags, make lists<ul>\n",
    "    <li> such as\n",
    "    <li> this one\n",
    "    <li> which is actually pretty useless\n",
    "    </ul>\n",
    "and basically, you can use everything that the markdown syntax normally allows you to use. \n",
    "\n",
    "You can click on an executed markdown-cell to see the pre-rendering text. Click on this one to see the tags used!"
   ]
  },
  {
   "cell_type": "markdown",
   "id": "96d09863",
   "metadata": {},
   "source": [
    "$\\LaTeX$ is supported and can be used. The experience is not the same as a $\\LaTeX$ dedicated editor, but you can throw in a nice equation every once in a while!\n",
    "\n",
    "The ideal gas law is: $p \\cdot V = n k T$"
   ]
  },
  {
   "cell_type": "markdown",
   "id": "a317f3a3",
   "metadata": {},
   "source": [
    "More on markdown cells and their use can be found at <!-- [Text](link) -->\n",
    "[this link](https://towardsdatascience.com/write-markdown-latex-in-the-jupyter-notebook-10985edb91fd \"this link\").\n",
    "\n",
    "\n"
   ]
  },
  {
   "cell_type": "markdown",
   "id": "2ca99be8",
   "metadata": {},
   "source": [
    "### 0.3 code"
   ]
  },
  {
   "cell_type": "markdown",
   "id": "08ea8564",
   "metadata": {},
   "source": [
    "Coding is the same you are used to! It's just divided into cells!"
   ]
  },
  {
   "cell_type": "code",
   "execution_count": 19,
   "id": "708feac9",
   "metadata": {},
   "outputs": [
    {
     "data": {
      "text/html": [
       "<ol class=list-inline>\n",
       "\t<li>10</li>\n",
       "\t<li>20</li>\n",
       "</ol>\n"
      ],
      "text/latex": [
       "\\begin{enumerate*}\n",
       "\\item 10\n",
       "\\item 20\n",
       "\\end{enumerate*}\n"
      ],
      "text/markdown": [
       "1. 10\n",
       "2. 20\n",
       "\n",
       "\n"
      ],
      "text/plain": [
       "[1] 10 20"
      ]
     },
     "metadata": {},
     "output_type": "display_data"
    },
    {
     "data": {
      "text/html": [
       "30"
      ],
      "text/latex": [
       "30"
      ],
      "text/markdown": [
       "30"
      ],
      "text/plain": [
       "[1] 30"
      ]
     },
     "metadata": {},
     "output_type": "display_data"
    }
   ],
   "source": [
    "# this is a comment\n",
    "# and the following lines are simple code lines\n",
    "\n",
    "n1 <- 10\n",
    "n2 <- 20\n",
    "union <- c(n1,n2)\n",
    "\n",
    "# typing a variable name at any point in a code cell produces a print-link output\n",
    "union\n",
    "\n",
    "# and then you can still go on with operations\n",
    "n_sum <- n1+n2\n",
    "n_sum"
   ]
  },
  {
   "cell_type": "code",
   "execution_count": 22,
   "id": "4a8dcb22",
   "metadata": {},
   "outputs": [
    {
     "name": "stdout",
     "output_type": "stream",
     "text": [
      "[1] \"foobar\"\n"
     ]
    }
   ],
   "source": [
    "print(later_defined_variable)"
   ]
  },
  {
   "cell_type": "code",
   "execution_count": 21,
   "id": "18ed94ff",
   "metadata": {},
   "outputs": [],
   "source": [
    "later_defined_variable <- 'foobar'"
   ]
  },
  {
   "cell_type": "code",
   "execution_count": 23,
   "id": "b295cbd9",
   "metadata": {},
   "outputs": [
    {
     "name": "stdout",
     "output_type": "stream",
     "text": [
      "[1] \"foobar\"\n"
     ]
    }
   ],
   "source": [
    "print(later_defined_variable)"
   ]
  },
  {
   "cell_type": "code",
   "execution_count": null,
   "id": "7411996e",
   "metadata": {},
   "outputs": [],
   "source": []
  },
  {
   "cell_type": "code",
   "execution_count": null,
   "id": "a467308b",
   "metadata": {},
   "outputs": [],
   "source": []
  }
 ],
 "metadata": {
  "kernelspec": {
   "display_name": "R",
   "language": "R",
   "name": "ir"
  },
  "language_info": {
   "codemirror_mode": "r",
   "file_extension": ".r",
   "mimetype": "text/x-r-source",
   "name": "R",
   "pygments_lexer": "r",
   "version": "3.6.1"
  }
 },
 "nbformat": 4,
 "nbformat_minor": 5
}
